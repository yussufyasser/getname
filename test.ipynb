{
 "cells": [
  {
   "cell_type": "code",
   "execution_count": 2,
   "metadata": {},
   "outputs": [
    {
     "name": "stdout",
     "output_type": "stream",
     "text": [
      "API Response: {'message': '1'}\n"
     ]
    }
   ],
   "source": [
    "import cv2\n",
    "import base64\n",
    "import requests\n",
    "\n",
    "url = 'http://ec2-13-60-245-133.eu-north-1.compute.amazonaws.com:9000/send_image'\n",
    "cap = cv2.VideoCapture(0)\n",
    "\n",
    "\n",
    "if not cap.isOpened():\n",
    "    print(\"Error: Could not open webcam.\")\n",
    "    exit()\n",
    "\n",
    "\n",
    "name = input(\"Enter your name: \")\n",
    "\n",
    "while True:\n",
    "    ret, frame = cap.read()\n",
    "\n",
    "    if not ret:\n",
    "        print(\"Failed to grab frame\")\n",
    "        break\n",
    "\n",
    "    cv2.imshow('Webcam', frame)\n",
    "\n",
    "\n",
    "    key = cv2.waitKey(1) & 0xFF\n",
    "\n",
    "    if key == ord('s'):\n",
    "\n",
    "        _, img_encoded = cv2.imencode('.jpg', frame)\n",
    "        img_base64 = base64.b64encode(img_encoded).decode('utf-8')\n",
    "\n",
    "\n",
    "        data = {\n",
    "            'image': img_base64,\n",
    "            'name': name\n",
    "        }\n",
    "\n",
    "        response = requests.post(url, json=data)\n",
    "\n",
    "        if response.status_code == 200:\n",
    "            print(f\"API Response: {response.json()}\")\n",
    "        else:\n",
    "            print(f\"Failed to send image. Status code: {response.status_code}\")\n",
    "        \n",
    "        break\n",
    "\n",
    "\n",
    "    if key == ord('q'):\n",
    "        break\n",
    "\n",
    "cap.release()\n",
    "cv2.destroyAllWindows()\n"
   ]
  },
  {
   "cell_type": "code",
   "execution_count": 1,
   "metadata": {},
   "outputs": [
    {
     "name": "stdout",
     "output_type": "stream",
     "text": [
      "Press 's' to capture an image and send it to the API.\n",
      "Press 'q' to quit.\n",
      "API Response: tttrr\n",
      "API Response: tttrr\n"
     ]
    }
   ],
   "source": [
    "import cv2\n",
    "import base64\n",
    "import requests\n",
    "\n",
    "\n",
    "\n",
    "url = 'http://ec2-13-60-245-133.eu-north-1.compute.amazonaws.com:8000/get_name' \n",
    "\n",
    "\n",
    "cap = cv2.VideoCapture(0)\n",
    "\n",
    "if not cap.isOpened():\n",
    "    print(\"Error: Could not open webcam.\")\n",
    "    exit()\n",
    "\n",
    "print(\"Press 's' to capture an image and send it to the API.\")\n",
    "print(\"Press 'q' to quit.\")\n",
    "\n",
    "while True:\n",
    "    ret, frame = cap.read()\n",
    "    \n",
    "    if not ret:\n",
    "        print(\"Failed to grab frame.\")\n",
    "        break\n",
    "\n",
    "    cv2.imshow('Webcam', frame)\n",
    "\n",
    "\n",
    "    key = cv2.waitKey(1) & 0xFF\n",
    "\n",
    "    if key == ord('s'):\n",
    "\n",
    "        _, img_encoded = cv2.imencode('.jpg', frame)\n",
    "        img_base64 = base64.b64encode(img_encoded).decode('utf-8')\n",
    "\n",
    "        data = {\n",
    "            \"image\": img_base64\n",
    "        }\n",
    "\n",
    "        response = requests.post(url, json=data)\n",
    "\n",
    "        if response.status_code == 200:\n",
    "            api_response = response.json()\n",
    "            print(f\"API Response: {api_response['message']}\")\n",
    "        else:\n",
    "            print(f\"Failed to send image. Status code: {response.status_code}\")\n",
    "    \n",
    "    if key == ord('q'):\n",
    "        break\n",
    "\n",
    "cap.release()\n",
    "cv2.destroyAllWindows()\n"
   ]
  }
 ],
 "metadata": {
  "kernelspec": {
   "display_name": "env1",
   "language": "python",
   "name": "python3"
  },
  "language_info": {
   "codemirror_mode": {
    "name": "ipython",
    "version": 3
   },
   "file_extension": ".py",
   "mimetype": "text/x-python",
   "name": "python",
   "nbconvert_exporter": "python",
   "pygments_lexer": "ipython3",
   "version": "3.9.18"
  }
 },
 "nbformat": 4,
 "nbformat_minor": 2
}
